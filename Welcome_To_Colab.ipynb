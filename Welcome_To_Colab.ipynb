{
  "cells": [
    {
      "cell_type": "markdown",
      "metadata": {
        "id": "view-in-github",
        "colab_type": "text"
      },
      "source": [
        "<a href=\"https://colab.research.google.com/github/RogerThattt/-building-a-real-time-transaction-fraud-system/blob/main/Welcome_To_Colab.ipynb\" target=\"_parent\"><img src=\"https://colab.research.google.com/assets/colab-badge.svg\" alt=\"Open In Colab\"/></a>"
      ]
    },
    {
      "cell_type": "code",
      "source": [
        "import numpy as np\n",
        "\n",
        "# Daily data usage in GB for 5 towers over 7 days\n",
        "data_usage = np.array([\n",
        "    [120, 135, 150, 145, 160, 155, 170],  # Tower 1\n",
        "    [80, 95, 100, 105, 110, 115, 120],    # Tower 2\n",
        "    [200, 210, 190, 195, 205, 220, 230],  # Tower 3\n",
        "    [50, 60, 55, 65, 70, 75, 80],         # Tower 4\n",
        "    [150, 160, 155, 165, 170, 175, 180]   # Tower 5\n",
        "])\n",
        "\n",
        "print(\"Data Usage Array:\\n\", data_usage)\n",
        "\n"
      ],
      "metadata": {
        "id": "aH8_YOCVymYM",
        "outputId": "ba17c114-4eb7-46e9-cf31-fa67983882b8",
        "colab": {
          "base_uri": "https://localhost:8080/"
        }
      },
      "execution_count": 1,
      "outputs": [
        {
          "output_type": "stream",
          "name": "stdout",
          "text": [
            "Data Usage Array:\n",
            " [[120 135 150 145 160 155 170]\n",
            " [ 80  95 100 105 110 115 120]\n",
            " [200 210 190 195 205 220 230]\n",
            " [ 50  60  55  65  70  75  80]\n",
            " [150 160 155 165 170 175 180]]\n"
          ]
        }
      ]
    },
    {
      "cell_type": "code",
      "source": [
        "# Total usage per day\n",
        "total_per_day = np.add(data_usage[0], data_usage[1])\n",
        "print(\"Total usage (Tower 1 + Tower 2) per day:\", total_per_day)\n",
        "\n",
        "# Difference between Tower 1 and Tower 2\n",
        "diff = np.subtract(data_usage[0], data_usage[1])\n",
        "print(\"Difference (Tower 1 - Tower 2) per day:\", diff)\n"
      ],
      "metadata": {
        "id": "Oib6ac-iypXO",
        "outputId": "30156d76-cf6b-47fc-c94f-c101989d74b9",
        "colab": {
          "base_uri": "https://localhost:8080/"
        }
      },
      "execution_count": 2,
      "outputs": [
        {
          "output_type": "stream",
          "name": "stdout",
          "text": [
            "Total usage (Tower 1 + Tower 2) per day: [200 230 250 250 270 270 290]\n",
            "Difference (Tower 1 - Tower 2) per day: [40 40 50 40 50 40 50]\n"
          ]
        }
      ]
    },
    {
      "cell_type": "code",
      "source": [
        "# Scale Tower 3\n",
        "scaled_tower3 = np.multiply(data_usage[2], 1.2)\n",
        "print(\"Scaled Tower 3 Usage:\", scaled_tower3)\n",
        "\n",
        "# Normalize Tower 4\n",
        "normalized_tower4 = np.divide(data_usage[3], data_usage[3].max())\n",
        "print(\"Normalized Tower 4 Usage:\", normalized_tower4)\n"
      ],
      "metadata": {
        "id": "0o-dY5WEy658",
        "outputId": "480cbebf-1249-4a58-953f-95d303f965b2",
        "colab": {
          "base_uri": "https://localhost:8080/"
        }
      },
      "execution_count": 3,
      "outputs": [
        {
          "output_type": "stream",
          "name": "stdout",
          "text": [
            "Scaled Tower 3 Usage: [240. 252. 228. 234. 246. 264. 276.]\n",
            "Normalized Tower 4 Usage: [0.625  0.75   0.6875 0.8125 0.875  0.9375 1.    ]\n"
          ]
        }
      ]
    },
    {
      "cell_type": "code",
      "source": [
        "# Average usage per tower\n",
        "avg_per_tower = np.mean(data_usage, axis=1)\n",
        "print(\"Average usage per tower:\", avg_per_tower)\n",
        "\n",
        "# Median usage per tower\n",
        "median_per_tower = np.median(data_usage, axis=1)\n",
        "print(\"Median usage per tower:\", median_per_tower)\n",
        "\n",
        "# Standard deviation per day\n",
        "std_per_day = np.std(data_usage, axis=0)\n",
        "print(\"Standard deviation per day:\", std_per_day)\n",
        "\n",
        "# Variance per tower\n",
        "var_per_tower = np.var(data_usage, axis=1)\n",
        "print(\"Variance per tower:\", var_per_tower)\n",
        "\n",
        "# Min and Max usage per tower\n",
        "min_per_tower = np.min(data_usage, axis=1)\n",
        "max_per_tower = np.max(data_usage, axis=1)\n",
        "print(\"Min usage per tower:\", min_per_tower)\n",
        "print(\"Max usage per tower:\", max_per_tower)\n"
      ],
      "metadata": {
        "id": "O7RuktVrzEfe",
        "outputId": "ce6170ad-8db3-403d-fe67-c48a6e1e39ee",
        "colab": {
          "base_uri": "https://localhost:8080/"
        }
      },
      "execution_count": 4,
      "outputs": [
        {
          "output_type": "stream",
          "name": "stdout",
          "text": [
            "Average usage per tower: [147.85714286 103.57142857 207.14285714  65.         165.        ]\n",
            "Median usage per tower: [150. 105. 205.  65. 165.]\n",
            "Standard deviation per day: [52.53570215 51.82663408 47.22287581 45.607017   47.49736835 49.75942122\n",
            " 51.6139516 ]\n",
            "Variance per tower: [234.69387755 155.10204082 170.40816327 100.         100.        ]\n",
            "Min usage per tower: [120  80 190  50 150]\n",
            "Max usage per tower: [170 120 230  80 180]\n"
          ]
        }
      ]
    }
  ],
  "metadata": {
    "colab": {
      "name": "Welcome To Colab",
      "toc_visible": true,
      "provenance": [],
      "include_colab_link": true
    },
    "kernelspec": {
      "display_name": "Python 3",
      "name": "python3"
    }
  },
  "nbformat": 4,
  "nbformat_minor": 0
}